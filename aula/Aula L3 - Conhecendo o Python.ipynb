{
 "cells": [
  {
   "cell_type": "markdown",
   "metadata": {
    "id": "2pk0_hOkl_kG"
   },
   "source": [
    "#**TTI103 - Lógica de Programação**\n",
    "\n",
    "#**Aula L3 - Conhecendo o Python**"
   ]
  },
  {
   "cell_type": "markdown",
   "metadata": {
    "id": "o3fU1zXRsYS3"
   },
   "source": [
    "## **Exercício 01**\n",
    "A partir da segunda lei do movimento de Newton, pode-se estabelecer uma equação matemática\n",
    "que modela o movimento de uma bola lançada verticalmente para cima.\n",
    "\n",
    "A posição vertical da bola, chamada $y$, varia com o tempo $t$ de acordo com:\n",
    "\n",
    "$$y(t)=v_0t-\\frac{1}{2}gt^2\\text{   [Eq. 1]}$$\n",
    "\n",
    "Na expressão acima, $v_0$ é a velocidade inicial da bola (em $\\text{m/s}$), $g$ é a aceleração da gravidade (em $\\text{m/s}^2$) e $t$ é\n",
    "o tempo (em $\\text{s}$).\n",
    "\n",
    "Observe que o eixo $Oy$ é escolhido de forma que a bola esteja em $y=0$ quando $t=0$. Além disso, essa expressão despreza a resistência do ar, que geralmente é pequena, a menos que $v_0$ seja muito alta.\n",
    "\n",
    "Para avaliar o tempo $t_r$ necessário para que a bola suba e retorne para $y=0$, podemos procurar soluções para a equação $y(t_r)=0$:\n",
    "\n",
    "$$v_0t_r-\\frac{1}{2}gt_r^2=t_r(v_0-\\frac{1}{2}gt_r)=0\\Rightarrow t_r=0\\text{ ou }t_r=\\frac{2v_0}{g}\\text{   [Eq. 2]}$$\n",
    "\n",
    "Ou seja, a bola retorna à posição inicial após $2v_0/g$ segundos. Logo, é razoável restringir nossa análise ao intervalo $t\\in[0, 2v_0/g]$.\n",
    "\n",
    "Com base nessas informações, elabore:\n",
    "\n",
    "* Um programa Python (acompanhado de seu respectivo fluxograma) que calcule o tempo necessário para que a bola retorne à sua posição inicial, usando $\\text{[Eq. 2]}$, a partir de escolhas arbitrárias de $v_0$ e $g$.\n",
    "\n",
    "* Um programa Python (acompanhado de seu respectivo fluxograma) que calcule a posição da bola, usando $\\text{[Eq. 1]}$, a partir de uma escolha de $t$ que respeite o resultado obtido no programa anterior."
   ]
  },
  {
   "cell_type": "code",
   "execution_count": null,
   "metadata": {
    "id": "1Np50kdhsLRQ"
   },
   "outputs": [
    {
     "ename": "",
     "evalue": "",
     "output_type": "error",
     "traceback": [
      "\u001b[1;31mRunning cells with 'Python 3.12.6' requires the ipykernel package.\n",
      "\u001b[1;31mRun the following command to install 'ipykernel' into the Python environment. \n",
      "\u001b[1;31mCommand: '\"c:/Program Files/Python312/python.exe\" -m pip install ipykernel -U --user --force-reinstall'"
     ]
    }
   ],
   "source": []
  },
  {
   "cell_type": "code",
   "execution_count": null,
   "metadata": {
    "id": "_K3FSEu-ywp8"
   },
   "outputs": [],
   "source": []
  },
  {
   "cell_type": "markdown",
   "metadata": {
    "id": "RK_pbLcE1Afb"
   },
   "source": [
    "# Como escolher nomes de variáveis\n",
    "\n",
    "* Aproveite a descrição matemática\n",
    "do problema que você deseja resolver e empregue os mesmos nomes para as variáveis do programa (isso requer uma boa documentação acerca do problema!);\n",
    "\n",
    "* Para todas as variáveis que não possuam um símbolo a elas reservado, use um nome descritivo cuidadosamente escolhido.\n",
    "\n",
    "O programa a seguir mostra uma solução que emprega variáveis (excessivamente) descritas. O uso do bom senso é altamente recomendável!"
   ]
  },
  {
   "cell_type": "code",
   "execution_count": null,
   "metadata": {
    "id": "erBkgLvMzYFC"
   },
   "outputs": [],
   "source": [
    "velocidade_inicial = 5\n",
    "acelaracao_gravidade = 9.81\n",
    "tempo = 0.6\n",
    "pos_vertical_bola = velocidade_inicial*tempo - 0.5*acelaracao_gravidade*tempo**2\n",
    "print(pos_vertical_bola)"
   ]
  },
  {
   "cell_type": "markdown",
   "metadata": {
    "id": "zkgB-kgX6AGp"
   },
   "source": [
    "# Palavras reservadas\n",
    "\n",
    "Certas palavras são reservadas em Python porque são usadas para construir a linguagem. Estas palavras reservadas não podem ser usadas como nomes de variáveis:\n",
    "\n",
    "`and`, `as`, `assert`, `async`, `await`, `break`, `class`, `continue`, `def`, `del`, `elif`, `else`, `except`, `False`,\n",
    "`finally`, `for`, `from`, `global`, `if`, `import`, `in`, `is`, `lambda`, `None`, `nonlocal`, `not`, `or`, `pass`, `raise`, `return`, `True`, `try`, `while`, `with`, `yield`."
   ]
  },
  {
   "cell_type": "markdown",
   "metadata": {
    "id": "D6MrgyVL8UIn"
   },
   "source": [
    "# Comentários\n",
    "\n",
    "Juntamente com as declarações do programa, é aconselhável fornecer alguns comentários\n",
    "em uma linguagem natural para explicar a ideia por trás das declarações.\n",
    "\n",
    "Comentários em Python começam com o caractere `#`. Após esse caractere, todas as declarações da respectiva linha de código são ignoradas quando o programa é executado."
   ]
  },
  {
   "cell_type": "markdown",
   "metadata": {
    "id": "xCVxnW1v9NKf"
   },
   "source": [
    "## **Exercício 02**\n",
    "\n",
    "Comente os programas que você construiu no Exercício 01."
   ]
  },
  {
   "cell_type": "code",
   "execution_count": null,
   "metadata": {
    "id": "OI5C4FVh9dwj"
   },
   "outputs": [],
   "source": []
  },
  {
   "cell_type": "code",
   "execution_count": null,
   "metadata": {
    "id": "X80oAj6B9eYQ"
   },
   "outputs": [],
   "source": []
  },
  {
   "cell_type": "markdown",
   "metadata": {
    "id": "wGvMHUXYD5ON"
   },
   "source": [
    "# Formatação de textos de saída\n",
    "\n",
    "Existem diversos modos disponíveis no Python para formatação de textos (`strings`) de saída. Aqui, vamos explorar as `f-strings`.\n",
    "\n",
    "Também chamadas de “*strings* literais formatadas” (formatted string literals), `f-strings` são strings que iniciam com a letra `f` e possuem chaves `{}` para realizar a interpolação das expressões que serão exibidas.\n",
    "\n",
    "As expressões são processadas em tempo de execução e formatadas utilizadas o protocolo `__format__`.\n",
    "\n",
    "A célula de código a seguir mostra um exemplo de aplicação. Execute-a!"
   ]
  },
  {
   "cell_type": "code",
   "execution_count": null,
   "metadata": {
    "id": "KpLUoyXVFoBG"
   },
   "outputs": [],
   "source": [
    "universidade = 'Mauá'\n",
    "print(f'Onde estão os melhores cursos de TI do Brasil? Na {universidade} é claro!')"
   ]
  },
  {
   "cell_type": "markdown",
   "metadata": {
    "id": "bqxPr1yCGL6c"
   },
   "source": [
    "Para controlar o número de casas decimais a ser exibido, basta formatar o valor da variável usando a estrutura `:.Nf`, em que:\n",
    "\n",
    "* os dois pontos indicam que a variável à sua esquerda será formatada;\n",
    "* o ponto indica o separador decimal;\n",
    "* `N` é o número de casas decimais que desejamos exibir;\n",
    "* `f` indicar o formato `float` para números reais (*floating-point numbers*).\n",
    "\n",
    "*CUIDADO!!!* A letra `f` do formato `:.Nf` não tem nenhuma relação com a letra `f` das `f-strings`! No entanto, elas comumente aparecem juntas na sintaxe de exibição de informações de saída. Veja o exemplo a seguir:"
   ]
  },
  {
   "cell_type": "code",
   "execution_count": null,
   "metadata": {
    "id": "r-zq3ENkIiMl"
   },
   "outputs": [],
   "source": [
    "valor_exato = 45.6732910\n",
    "print(f'O resultado é {valor_exato:.2f}, com exatidão de 2 casas decimais.')"
   ]
  },
  {
   "cell_type": "markdown",
   "metadata": {
    "id": "n-YJI9UeF9_e"
   },
   "source": [
    "## **Exercício 03**\n",
    "\n",
    "Formate as saídas dos programas que você construiu no Exercício 01. Use três casas decimais."
   ]
  },
  {
   "cell_type": "code",
   "execution_count": null,
   "metadata": {
    "id": "njKG33gnGHT_"
   },
   "outputs": [],
   "source": []
  },
  {
   "cell_type": "code",
   "execution_count": null,
   "metadata": {
    "id": "Ii9Fp-a-Jg9H"
   },
   "outputs": [],
   "source": []
  },
  {
   "cell_type": "markdown",
   "metadata": {
    "id": "ZChHy7P-LtGp"
   },
   "source": [
    "# Entrada manual de dados\n",
    "\n",
    "Para a entrada manual de dados, usaremos o comando `input`. É importante lembrar que esse comando retorna, por padrão, a informação fornecida pelo usuário no formato `string`, ou seja, um texto.\n",
    "\n",
    "Se a entrada devesse ser entendida como um número inteiro, por exemplo, devemos converter o retorno do comando `input` para o formato `int`. Se desejamos interpretar a informação como um núemro real, devemos converter para `float`. No exemplo a seguir, digite $45$ e observe o resultado."
   ]
  },
  {
   "cell_type": "code",
   "execution_count": null,
   "metadata": {
    "id": "GUZddaQjMsoY"
   },
   "outputs": [],
   "source": [
    "x = input('Digite um número inteiro: ')\n",
    "print(f'Resultado = {2*x}')"
   ]
  },
  {
   "cell_type": "markdown",
   "metadata": {
    "id": "xj9RsBReNAEB"
   },
   "source": [
    "Como assim? Até ontem, $2\\times 45=90$. Por que o resultado do programa foi $4545$?\n",
    "\n",
    "Bem, o Python interpretou o valor $45$ como um texto (classe `str`)."
   ]
  },
  {
   "cell_type": "code",
   "execution_count": null,
   "metadata": {
    "id": "GWlm5Zpth-4O"
   },
   "outputs": [],
   "source": [
    "print(type(x))  # type retorna o tipo da variável presente em seu argumento"
   ]
  },
  {
   "cell_type": "markdown",
   "metadata": {
    "id": "ow-qo_v3iBg1"
   },
   "source": [
    "Logo, quando pedimos para imprimir o dobro desse valor, o Python faz exatamente o que pedimos, repetindo o texto duas vezes!\n",
    "\n",
    "Claro, o resultado esperado era $90$. O código a seguir mostra como devemos proceder para que o programa funcione como esperávamos. Novamente, digite o número $45$."
   ]
  },
  {
   "cell_type": "code",
   "execution_count": null,
   "metadata": {
    "id": "-jZZf80qh37e"
   },
   "outputs": [],
   "source": [
    "x = int(input('Digite um número inteiro: '))\n",
    "print(f'Resultado = {2*x}')\n",
    "print(type(x))"
   ]
  },
  {
   "cell_type": "markdown",
   "metadata": {
    "id": "qg8xF9opiQK2"
   },
   "source": [
    "Ótimo! Mas e se digitarmos $3.5$? Faça isso na célula de código a seguir:"
   ]
  },
  {
   "cell_type": "code",
   "execution_count": null,
   "metadata": {
    "id": "IdRwQslrivhv"
   },
   "outputs": [],
   "source": [
    "x = int(input('Digite um número inteiro: '))\n",
    "print(f'Resultado = {2*x}')"
   ]
  },
  {
   "cell_type": "markdown",
   "metadata": {
    "id": "cXjZvg8Ui22I"
   },
   "source": [
    "Não deu certo... O Python nos diz:\n",
    "\n",
    "`ValueError: invalid literal for int() with base 10: '3.5'`\n",
    "\n",
    "Esse é um erro de valor. Pedimos que um número real fosse convertido para número inteiro, o que evidentemente não faz sentido. Assim, para que o programa funcione corretamente, devemos converter o valor digitado para `float`. Execute a célula de código abaixo, digitando $3.5$."
   ]
  },
  {
   "cell_type": "code",
   "execution_count": null,
   "metadata": {
    "id": "toyhaTKCjZh4"
   },
   "outputs": [],
   "source": [
    "x = float(input('Digite um número inteiro: '))\n",
    "print(f'Resultado = {2*x}')\n",
    "print(type(x))"
   ]
  },
  {
   "cell_type": "markdown",
   "metadata": {
    "id": "3AWMcJMljva_"
   },
   "source": [
    "## **Exercício 04**\n",
    "\n",
    "Elabore um fluxograma e um programa em Python que calculem e exibam a média de dois números digitados pelos usuários.\n",
    "\n",
    "* Use nomes adequados para suas variáveis;\n",
    "* Comente o seu programa;\n",
    "* Não se esqueça de formatar a saída! Adote duas casas decimais para a precisão da média."
   ]
  },
  {
   "cell_type": "code",
   "execution_count": null,
   "metadata": {
    "id": "aOJsGScClLNV"
   },
   "outputs": [],
   "source": []
  }
 ],
 "metadata": {
  "colab": {
   "provenance": []
  },
  "kernelspec": {
   "display_name": "Python 3",
   "name": "python3"
  },
  "language_info": {
   "name": "python",
   "version": "3.12.6"
  }
 },
 "nbformat": 4,
 "nbformat_minor": 0
}
